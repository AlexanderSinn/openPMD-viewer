{
 "cells": [
  {
   "cell_type": "markdown",
   "metadata": {},
   "source": [
    "# Specific arguments for particular field geometry\n",
    "\n",
    "The openPMD format supports 3 types of geometries:\n",
    "- Cartesian 2D\n",
    "- Cartesian 3D\n",
    "- Cylindrical with azimuthal decomposition (thetaMode)\n",
    "\n",
    "This notebook shows how to use the arguments of `get_field` which are specific to a given geometry.\n",
    "\n",
    "## (optional) Preparing this notebook to run it locally\n",
    "\n",
    "If you choose to run this notebook on your local machine, you will need to download the openPMD data files which will then be visualized. To do so, execute the following cell. (Downloading the data may take a few seconds.)"
   ]
  },
  {
   "cell_type": "code",
   "execution_count": null,
   "metadata": {
    "collapsed": false
   },
   "outputs": [],
   "source": [
    "import os\n",
    "if os.path.exists('./example-2d.tar.gz') == False:\n",
    "    # 2D Cartesian\n",
    "    !wget https://github.com/openPMD/openPMD-example-datasets/raw/draft/example-2d.tar.gz\n",
    "    !tar zxf example-2d.tar.gz\n",
    "    \n",
    "if os.path.exists('./example-3d.tar.gz') == False:\n",
    "    # 3D Cartesian\n",
    "    !wget https://github.com/openPMD/openPMD-example-datasets/raw/draft/example-3d.tar.gz\n",
    "    !tar zxf example-3d.tar.gz\n",
    "    \n",
    "if os.path.exists('./example-thetaMode.tar.gz') == False:\n",
    "    # thetaMode\n",
    "    !wget https://github.com/openPMD/openPMD-example-datasets/raw/draft/example-thetaMode.tar.gz\n",
    "    !tar zxf example-thetaMode.tar.gz"
   ]
  },
  {
   "cell_type": "markdown",
   "metadata": {},
   "source": [
    "In addition, we choose here to incorporate the plots inside the notebook."
   ]
  },
  {
   "cell_type": "code",
   "execution_count": 1,
   "metadata": {
    "collapsed": true
   },
   "outputs": [],
   "source": [
    "%matplotlib inline"
   ]
  },
  {
   "cell_type": "markdown",
   "metadata": {
    "collapsed": true
   },
   "source": [
    "## 3D Cartesian geometry"
   ]
  },
  {
   "cell_type": "markdown",
   "metadata": {},
   "source": [
    "## Cylindrical geometry (with azimuthal decomposition)"
   ]
  }
 ],
 "metadata": {
  "kernelspec": {
   "display_name": "Python 2",
   "language": "python",
   "name": "python2"
  },
  "language_info": {
   "codemirror_mode": {
    "name": "ipython",
    "version": 2
   },
   "file_extension": ".py",
   "mimetype": "text/x-python",
   "name": "python",
   "nbconvert_exporter": "python",
   "pygments_lexer": "ipython2",
   "version": "2.7.10"
  }
 },
 "nbformat": 4,
 "nbformat_minor": 0
}
