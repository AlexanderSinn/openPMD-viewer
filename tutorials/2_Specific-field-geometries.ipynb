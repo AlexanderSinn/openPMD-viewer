{
 "cells": [
  {
   "cell_type": "markdown",
   "metadata": {},
   "source": [
    "# Specific arguments for particular field geometry\n",
    "\n",
    "The openPMD format supports 3 types of geometries:\n",
    "- Cartesian 2D\n",
    "- Cartesian 3D\n",
    "- Cylindrical with azimuthal decomposition (thetaMode)\n",
    "\n",
    "This notebook shows how to use the arguments of `get_field` which are specific to a given geometry.\n",
    "\n",
    "## (optional) Preparing this notebook to run it locally\n",
    "\n",
    "If you choose to run this notebook locally, you will need to download the openPMD data files which will then be visualized. To do so, change the flag `download_data` to `True`, and execute the following cell. (Downloading the data may take a few seconds.)"
   ]
  },
  {
   "cell_type": "code",
   "execution_count": 5,
   "metadata": {
    "collapsed": false
   },
   "outputs": [
    {
     "name": "stdout",
     "output_type": "stream",
     "text": [
      "Cloning into 'openPMD-example-datasets'...\n",
      "remote: Counting objects: 14, done.\u001b[K\n",
      "remote: Total 14 (delta 1), reused 1 (delta 1), pack-reused 12\u001b[K\n",
      "Unpacking objects: 100% (14/14), done.\n",
      "Downloading example-3d.tar.gz (26.43 MB)\n",
      "Username for 'https://github.com': ^Cerror: external filter git-lfs smudge %f failed 2\n",
      "\n",
      "tar: Error opening archive: Failed to open 'openPMD-example-datasets/example-3d.tar.gz'\n",
      "tar: Error opening archive: Failed to open 'openPMD-example-datasets/example-thetaMode.tar.gz'\n"
     ]
    }
   ],
   "source": [
    "download_data = True\n",
    "if download_data:\n",
    "    # Download\n",
    "    !git clone https://github.com/openPMD/openPMD-example-datasets.git\n",
    "    # Decompress\n",
    "    !tar zxf openPMD-example-datasets/example-2d.tar.gz\n",
    "    !tar zxf openPMD-example-datasets/example-3d.tar.gz\n",
    "    !tar zxf openPMD-example-datasets/example-thetaMode.tar.gz"
   ]
  },
  {
   "cell_type": "code",
   "execution_count": null,
   "metadata": {
    "collapsed": true
   },
   "outputs": [],
   "source": []
  }
 ],
 "metadata": {
  "kernelspec": {
   "display_name": "Python 2",
   "language": "python",
   "name": "python2"
  },
  "language_info": {
   "codemirror_mode": {
    "name": "ipython",
    "version": 2
   },
   "file_extension": ".py",
   "mimetype": "text/x-python",
   "name": "python",
   "nbconvert_exporter": "python",
   "pygments_lexer": "ipython2",
   "version": "2.7.10"
  }
 },
 "nbformat": 4,
 "nbformat_minor": 0
}
