{
 "cells": [
  {
   "cell_type": "markdown",
   "metadata": {},
   "source": [
    "# Introduction to the openPMD-viewer API\n",
    "\n",
    "This notebook explains how to use the openPMD-viewer API, in order to access and plot the data stored in a set of openPMD files.\n",
    "\n",
    "The openPMD-viewer API does not require the ipython notebook, and can be run in a normal Python environnement.\n",
    "It can typically be used to write Python scripts, which perform pre-determined data analysis operations.\n",
    "\n",
    "## (optional) Preparing this notebook to run it locally\n",
    "\n",
    "If you choose to run this notebook on your local machine, you will need to download the openPMD data files which will then be visualized. To do so, and execute the following cell."
   ]
  },
  {
   "cell_type": "code",
   "execution_count": 1,
   "metadata": {
    "collapsed": false
   },
   "outputs": [],
   "source": [
    "import os, wget, tarfile\n",
    "\n",
    "def download_if_absent( dataset_name ):\n",
    "    \"Function that downloads and decompress a chosen dataset\"\n",
    "    if os.path.exists( dataset_name ) is False:\n",
    "        tar_name = \"%s.tar.gz\" %dataset_name\n",
    "        url = \"https://github.com/openPMD/openPMD-example-datasets/raw/draft/%s\" %tar_name\n",
    "        wget.download( url )\n",
    "        with tarfile.open( tar_name ) as tar_file:\n",
    "            tar_file.extractall()\n",
    "        os.remove( tar_name )\n",
    "\n",
    "download_if_absent( 'example-2d' )"
   ]
  },
  {
   "cell_type": "markdown",
   "metadata": {},
   "source": [
    "In addition, we choose here to incorporate the plots inside the notebook."
   ]
  },
  {
   "cell_type": "code",
   "execution_count": 2,
   "metadata": {
    "collapsed": false
   },
   "outputs": [],
   "source": [
    "%matplotlib inline"
   ]
  },
  {
   "cell_type": "markdown",
   "metadata": {},
   "source": [
    "## Preparing the API\n",
    "\n",
    "In order to start using the API:\n",
    "\n",
    "- Load the class `OpenPMDTimeSeries` from the module `opmd_viewer`"
   ]
  },
  {
   "cell_type": "code",
   "execution_count": 3,
   "metadata": {
    "collapsed": false
   },
   "outputs": [
    {
     "name": "stderr",
     "output_type": "stream",
     "text": [
      ":0: FutureWarning: IPython widgets are experimental and may change in the future.\n"
     ]
    }
   ],
   "source": [
    "from opmd_viewer import OpenPMDTimeSeries"
   ]
  },
  {
   "cell_type": "markdown",
   "metadata": {},
   "source": [
    "- Create a time series object by pointing to the folder which contains the corresponding openPMD data"
   ]
  },
  {
   "cell_type": "code",
   "execution_count": 4,
   "metadata": {
    "collapsed": false
   },
   "outputs": [],
   "source": [
    "ts = OpenPMDTimeSeries('./example-2d/hdf5/')"
   ]
  },
  {
   "cell_type": "markdown",
   "metadata": {},
   "source": [
    "## Using the API for the fields\n",
    "\n",
    "### Accessing the field data\n",
    "\n",
    "The fields can be read with the method `get_field`. \n",
    "\n",
    "The user can either require a time (in seconds) or an iteration (an integer). When giving a time, it is not needed to provide the exact time of an available iteration, as the time of the closest available value will be used instead."
   ]
  },
  {
   "cell_type": "code",
   "execution_count": 5,
   "metadata": {
    "collapsed": false
   },
   "outputs": [],
   "source": [
    "# One example\n",
    "rho, info_rho = ts.get_field( iteration=100, field='rho' )\n",
    "# Another example\n",
    "Ex, info_Ex = ts.get_field( t=100.e-15,  field='E', coord='x' )"
   ]
  },
  {
   "cell_type": "markdown",
   "metadata": {},
   "source": [
    "The method `get_field` returns two quantities:\n",
    "- A 2D array containing the values of the requested field.\n",
    "- A object containing metainformation about the extent of the grid.\n",
    "\n",
    "These two objects can then be used in a Python environnement to perform numerical analysis."
   ]
  },
  {
   "cell_type": "markdown",
   "metadata": {},
   "source": [
    "### Plotting the field data \n",
    "\n",
    "A user could directly plot the extracted array `Ex` by using e.g. matplotlib's `imshow`.\n",
    "\n",
    "However, for convenience, openPMD-viewer can also directly plot the data, if the argument `plot = True` is used."
   ]
  },
  {
   "cell_type": "code",
   "execution_count": 17,
   "metadata": {
    "collapsed": false
   },
   "outputs": [
    {
     "data": {
      "image/png": "[encoded data removed]",
      "text/plain": [
       "<matplotlib.figure.Figure at 0x107f4ef90>"
      ]
     },
     "metadata": {},
     "output_type": "display_data"
    }
   ],
   "source": [
    "Ex, info_Ex = ts.get_field( t=100.e-15,  field='E', coord='x', plot=True )"
   ]
  },
  {
   "cell_type": "markdown",
   "metadata": {},
   "source": [
    "### Missing or inconsistent argument"
   ]
  },
  {
   "cell_type": "markdown",
   "metadata": {},
   "source": [
    "If an argument is missing or inconsistent, a helper message will be printed."
   ]
  },
  {
   "cell_type": "code",
   "execution_count": 7,
   "metadata": {
    "collapsed": false
   },
   "outputs": [
    {
     "name": "stdout",
     "output_type": "stream",
     "text": [
      "The field E is a vector field, but the `coord` argument is missing or erroneous.\n",
      "The available coordinates are: \n",
      " - x\n",
      " - y\n",
      " - z\n",
      "Please set the `coord` argument accordingly.\n"
     ]
    }
   ],
   "source": [
    "E, info_E = ts.get_field( field='E' )"
   ]
  },
  {
   "cell_type": "code",
   "execution_count": 8,
   "metadata": {
    "collapsed": false
   },
   "outputs": [
    {
     "name": "stdout",
     "output_type": "stream",
     "text": [
      "The `field` argument is missing or erroneous.\n",
      "The available fields are: \n",
      " - J\n",
      " - B\n",
      " - E\n",
      " - rho\n",
      "Please set the `field` argument accordingly.\n"
     ]
    }
   ],
   "source": [
    "Ex, info_Ex = ts.get_field( field='bogus_field', coord='x' )"
   ]
  },
  {
   "cell_type": "markdown",
   "metadata": {},
   "source": [
    "### Additional documentation\n",
    "\n",
    "Additional documentation on `get_field` can be obtained by reading its docstring. This can be done for instance by executing the following command in an IPython environnement."
   ]
  },
  {
   "cell_type": "code",
   "execution_count": 9,
   "metadata": {
    "collapsed": true
   },
   "outputs": [],
   "source": [
    "ts.get_field?"
   ]
  },
  {
   "cell_type": "markdown",
   "metadata": {},
   "source": [
    "Moreover, additional documentation about the meta-information object which is returned by get_field can be obtained by adding `?` after any metainformation object. For instance:"
   ]
  },
  {
   "cell_type": "code",
   "execution_count": 10,
   "metadata": {
    "collapsed": true
   },
   "outputs": [],
   "source": [
    "info_rho?"
   ]
  },
  {
   "cell_type": "markdown",
   "metadata": {},
   "source": [
    "## API for the particles\n",
    "\n",
    "### Accessing the particle data\n",
    "\n",
    "The particle quantities can be read by using the method `get_particle`. \n",
    "\n",
    "Again, the user can give either a physical time, or an iteration. Additionally, the user can request several particle quantities simultaneously, by passing a list of requested quantities (`var_list`). The method `get_particle` then returns a list of 1darray (one per requested quantity in `var_list`, returned in the same order). These 1darrays have one element per macroparticle."
   ]
  },
  {
   "cell_type": "code",
   "execution_count": 11,
   "metadata": {
    "collapsed": false
   },
   "outputs": [],
   "source": [
    "# One example: extracting several quantities\n",
    "x, uz, w = ts.get_particle( var_list=['x','uz', 'w'], iteration=100, species='ions') \n",
    "# Another example: extracting 1 quantity \n",
    "# (notice the comma after z, so that z is a 1darray, not a list)\n",
    "z, = ts.get_particle( var_list=['z'], t=150.e-15, species='electrons')"
   ]
  },
  {
   "cell_type": "markdown",
   "metadata": {},
   "source": [
    "### Plotting the particle data\n",
    "\n",
    "The openPMD-viewer provides plotting support when the argument `plot = True` is set:\n",
    "\n",
    "- When only one quantity is requested, a histogram of this quantity is plotted. (This histogram takes into account the weight of the macroparticles.)"
   ]
  },
  {
   "cell_type": "code",
   "execution_count": 12,
   "metadata": {
    "collapsed": false
   },
   "outputs": [
    {
     "data": {
      "image/png": "[encoded data removed]",
      "text/plain": [
       "<matplotlib.figure.Figure at 0x1046c3410>"
      ]
     },
     "metadata": {},
     "output_type": "display_data"
    }
   ],
   "source": [
    "ux = ts.get_particle( var_list=['ux'], iteration=400, species='electrons', plot=True )"
   ]
  },
  {
   "cell_type": "markdown",
   "metadata": {},
   "source": [
    "- When two quantities are requested, a 2d histogram is plotted. (It also takes into account the weight of the macroparticles.)"
   ]
  },
  {
   "cell_type": "code",
   "execution_count": 13,
   "metadata": {
    "collapsed": false
   },
   "outputs": [
    {
     "data": {
      "image/png": "[encoded data removed]",
      "text/plain": [
       "<matplotlib.figure.Figure at 0x10673fb10>"
      ]
     },
     "metadata": {},
     "output_type": "display_data"
    }
   ],
   "source": [
    "z, uz = ts.get_particle( var_list=['z','uz'], iteration=400, species='electrons', plot=True, vmax=3e12 )"
   ]
  },
  {
   "cell_type": "markdown",
   "metadata": {},
   "source": [
    "### Missing or inconsistent arguments\n",
    "\n",
    "As for the fieds, if an argument is missing or inconsistent, a helper message will be printed."
   ]
  },
  {
   "cell_type": "code",
   "execution_count": 14,
   "metadata": {
    "collapsed": false
   },
   "outputs": [
    {
     "name": "stdout",
     "output_type": "stream",
     "text": [
      "The argument `species` is missing or erroneous.\n",
      "The available species are: \n",
      " - electrons\n",
      " - ions\n",
      "Please set the argument `species` accordingly.\n"
     ]
    }
   ],
   "source": [
    "data_list = ts.get_particle( var_list=['z'], t=150.e-15 )"
   ]
  },
  {
   "cell_type": "code",
   "execution_count": 15,
   "metadata": {
    "collapsed": false
   },
   "outputs": [
    {
     "name": "stdout",
     "output_type": "stream",
     "text": [
      "The argument `var_list` is missing or erroneous.\n",
      "It should be a list of strings representing particle quantities.\n",
      " The available quantities are: \n",
      " - charge\n",
      " - mass\n",
      " - x\n",
      " - y\n",
      " - z\n",
      " - ux\n",
      " - uy\n",
      " - uz\n",
      " - w\n",
      "Please set the argument `var_list` accordingly.\n"
     ]
    }
   ],
   "source": [
    "data_list = ts.get_particle( var_list=['bogus_quantity'], t=150.e-15, species='electrons' )"
   ]
  },
  {
   "cell_type": "markdown",
   "metadata": {},
   "source": [
    "### Additional documentation\n",
    "\n",
    "As for the `get_field` method, the documentation on `get_particle` can be obtained by reading its docstring. This can be done for instance by executing the following command in an IPython environnement."
   ]
  },
  {
   "cell_type": "code",
   "execution_count": 16,
   "metadata": {
    "collapsed": true
   },
   "outputs": [],
   "source": [
    "ts.get_particle?"
   ]
  },
  {
   "cell_type": "markdown",
   "metadata": {},
   "source": [
    "## Continue this tutorial\n",
    "\n",
    "- To learn more about mesh geometries and the corresponding API, look at the notebook `2_Specific-field-geometries`.\n",
    "\n",
    "- To learn about the openPMD-viewer GUI, look at the notebook `3_Introduction-to-the-GUI`."
   ]
  }
 ],
 "metadata": {
  "kernelspec": {
   "display_name": "Python 2",
   "language": "python",
   "name": "python2"
  },
  "language_info": {
   "codemirror_mode": {
    "name": "ipython",
    "version": 2
   },
   "file_extension": ".py",
   "mimetype": "text/x-python",
   "name": "python",
   "nbconvert_exporter": "python",
   "pygments_lexer": "ipython2",
   "version": "2.7.11"
  }
 },
 "nbformat": 4,
 "nbformat_minor": 0
}
