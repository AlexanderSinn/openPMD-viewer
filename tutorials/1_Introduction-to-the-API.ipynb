{
 "cells": [
  {
   "cell_type": "markdown",
   "metadata": {},
   "source": [
    "# Introduction to the openPMD-viewer API\n",
    "\n",
    "This notebook explains how to use the openPMD API, in order access and plot the data stored in a set of openPMD files.\n",
    "\n",
    "The openPMD-viewer API does not require the ipython notebook, and can be run in a normal Python environnement.\n",
    "It can typically be used to write Python scripts, which perform pre-determined data analysis operations.\n",
    "\n",
    "## (optional) Preparing this notebook to run it locally\n",
    "\n",
    "If you choose to run this notebook locally, you will need to download the openPMD data files which will then be visualized. To do so, execute the following cell."
   ]
  },
  {
   "cell_type": "code",
   "execution_count": null,
   "metadata": {
    "collapsed": false
   },
   "outputs": [],
   "source": [
    "!wget https://github.com/RemiLehe/openPMD-example-datasets/raw/master/example-2d.tar.gz\n",
    "!tar zxf example-2d.tar.gz"
   ]
  },
  {
   "cell_type": "markdown",
   "metadata": {},
   "source": [
    "In addition, we choose here to incorporate the plots inside the notebook."
   ]
  },
  {
   "cell_type": "code",
   "execution_count": 1,
   "metadata": {
    "collapsed": true
   },
   "outputs": [],
   "source": [
    "%matplotlib inline"
   ]
  },
  {
   "cell_type": "markdown",
   "metadata": {},
   "source": [
    "## Preparing the API\n",
    "\n",
    "In order to start using the API:\n",
    "\n",
    "- Load the class `OpenPMDTimeSeries` from the module `opmd_viewer`"
   ]
  },
  {
   "cell_type": "code",
   "execution_count": 2,
   "metadata": {
    "collapsed": true
   },
   "outputs": [],
   "source": [
    "from opmd_viewer import OpenPMDTimeSeries"
   ]
  },
  {
   "cell_type": "markdown",
   "metadata": {},
   "source": [
    "- Create a time series object by pointing, to the folder which contains the corresponding openPMD data"
   ]
  },
  {
   "cell_type": "code",
   "execution_count": 3,
   "metadata": {
    "collapsed": false
   },
   "outputs": [],
   "source": [
    "ts = OpenPMDTimeSeries('./example-2d/hdf5/')"
   ]
  },
  {
   "cell_type": "markdown",
   "metadata": {},
   "source": [
    "## Using the API for the fields\n",
    "\n",
    "### Accessing the field data\n",
    "\n",
    "The fields can be read with the method `get_field`, by giving either the time (in seconds) or the iteration (an integer). When giving a time, it is no needed to provide the exact time of an available iteration, as the time of the closest available value will be used instead."
   ]
  },
  {
   "cell_type": "code",
   "execution_count": 4,
   "metadata": {
    "collapsed": false
   },
   "outputs": [],
   "source": [
    "# One example\n",
    "rho, extent_rho = ts.get_field( iteration=100, field='rho' )\n",
    "# Another example\n",
    "Ex, extent_Ex = ts.get_field( t=100.e-15,  field='E', coord='x' )"
   ]
  },
  {
   "cell_type": "markdown",
   "metadata": {},
   "source": [
    "The method `get_field` returns two quantities:\n",
    "- An 2D array containing the values of the requested field.\n",
    "- An extent (an array containing only four values, corresponding to minimum and maximum of the coordinates along each axis) \n",
    "\n",
    "These arrays can then be used in a Python environnement to perform numerical analysis."
   ]
  },
  {
   "cell_type": "markdown",
   "metadata": {},
   "source": [
    "### Plotting the field data \n",
    "\n",
    "A user could directly plot the extracted array `Ex` by using e.g. matplotlib's `imshow`.\n",
    "\n",
    "However, for convenience, openPMD-viewer can also directly plot the data, if the argument `plot = True` is used."
   ]
  },
  {
   "cell_type": "code",
   "execution_count": 5,
   "metadata": {
    "collapsed": false
   },
   "outputs": [
    {
     "data": {
      "image/png": "[encoded data removed]",
      "text/plain": [
       "<matplotlib.figure.Figure at 0x108d035d0>"
      ]
     },
     "metadata": {},
     "output_type": "display_data"
    }
   ],
   "source": [
    "Ex, extent_Ex = ts.get_field( t=100.e-15,  field='E', coord='x', plot=True )"
   ]
  },
  {
   "cell_type": "markdown",
   "metadata": {},
   "source": [
    "### Missing or inconsistent argument"
   ]
  },
  {
   "cell_type": "markdown",
   "metadata": {},
   "source": [
    "If an argument is missing or inconsistent, a helper message will be printed."
   ]
  },
  {
   "cell_type": "code",
   "execution_count": 6,
   "metadata": {
    "collapsed": false
   },
   "outputs": [
    {
     "name": "stdout",
     "output_type": "stream",
     "text": [
      "The field E is a vector field, but the `coord` argument is missing or erroneous.\n",
      "The available coordinates are: \n",
      " - x\n",
      " - y\n",
      " - z\n",
      "Please set the `coord` argument accordingly.\n"
     ]
    }
   ],
   "source": [
    "E, extent_E = ts.get_field( field='E' )"
   ]
  },
  {
   "cell_type": "code",
   "execution_count": 7,
   "metadata": {
    "collapsed": false
   },
   "outputs": [
    {
     "name": "stdout",
     "output_type": "stream",
     "text": [
      "The `field` argument is missing or erroneous.\n",
      "The available fields are: \n",
      " - J\n",
      " - B\n",
      " - E\n",
      " - rho\n",
      "Please set the `field` argument accordingly.\n"
     ]
    }
   ],
   "source": [
    "Ex, extent_Ex = ts.get_field( field='bogus_field', coord='x' )"
   ]
  },
  {
   "cell_type": "markdown",
   "metadata": {},
   "source": [
    "### Additional documentation\n",
    "\n",
    "Additonal documentation on `get_field` can be obtained by reading its docstring. This can be done for instance by executing the following command in an IPython environnement."
   ]
  },
  {
   "cell_type": "code",
   "execution_count": 8,
   "metadata": {
    "collapsed": true
   },
   "outputs": [],
   "source": [
    "ts.get_field?"
   ]
  },
  {
   "cell_type": "markdown",
   "metadata": {},
   "source": [
    "## API for the particles\n",
    "\n",
    "### Accessing the particle data\n",
    "\n",
    "The particle quantities can be read by using the method `get_particle`. Again, the user can give either a physical time, or an iteration. Additionally, the user can request either one particle quantities (by setting the argument `q1`) or two particle quantities (by setting the arguments `q1` and `q2`)."
   ]
  },
  {
   "cell_type": "code",
   "execution_count": 9,
   "metadata": {
    "collapsed": false
   },
   "outputs": [],
   "source": [
    "# One example\n",
    "z = ts.get_particle( q1='z', t=150.e-15, species='electrons')\n",
    "# Another example\n",
    "x, uz = ts.get_particle( q1='x', q2='uz', iteration=100, species='ions') "
   ]
  },
  {
   "cell_type": "markdown",
   "metadata": {},
   "source": [
    "The returned objects are 1D arrays with one element per macroparticle."
   ]
  },
  {
   "cell_type": "markdown",
   "metadata": {},
   "source": [
    "### Plotting the particle data\n",
    "\n",
    "The openPMD-viewer provides plotting support when the argument `plot = True` is set:\n",
    "\n",
    "- When only one quantity is requested, a histogram of this quantity is plotted. (This histogram takes into account the weight of the macroparticles.)"
   ]
  },
  {
   "cell_type": "code",
   "execution_count": 10,
   "metadata": {
    "collapsed": false
   },
   "outputs": [
    {
     "data": {
      "image/png": "[encoded data removed]",
      "text/plain": [
       "<matplotlib.figure.Figure at 0x10afc5cd0>"
      ]
     },
     "metadata": {},
     "output_type": "display_data"
    }
   ],
   "source": [
    "ux = ts.get_particle( q1='ux', iteration=400, species='electrons', plot=True )"
   ]
  },
  {
   "cell_type": "markdown",
   "metadata": {},
   "source": [
    "- When two quantities are requested, a 2d histogram is plotted. (It also takes into account the weight of the macroparticles.)"
   ]
  },
  {
   "cell_type": "code",
   "execution_count": 11,
   "metadata": {
    "collapsed": false
   },
   "outputs": [
    {
     "data": {
      "image/png": "[encoded data removed]",
      "text/plain": [
       "<matplotlib.figure.Figure at 0x10b66ca50>"
      ]
     },
     "metadata": {},
     "output_type": "display_data"
    }
   ],
   "source": [
    "z, uz = ts.get_particle( q1='z', q2='uz', iteration=400, species='electrons', plot=True, vmax=3e12 )"
   ]
  },
  {
   "cell_type": "markdown",
   "metadata": {},
   "source": [
    "### Missing or inconsistent arguments\n",
    "\n",
    "As for the fieds, if an argument is missing or inconsistent, a helper message will be printed."
   ]
  },
  {
   "cell_type": "code",
   "execution_count": 12,
   "metadata": {
    "collapsed": false
   },
   "outputs": [
    {
     "name": "stdout",
     "output_type": "stream",
     "text": [
      "The argument `species` is missing or erroneous.\n",
      "The available species are: \n",
      " - electrons\n",
      " - ions\n",
      "Please set the argument `species` accordingly.\n"
     ]
    }
   ],
   "source": [
    "z = ts.get_particle( q1='z', t=150.e-15 )"
   ]
  },
  {
   "cell_type": "code",
   "execution_count": 13,
   "metadata": {
    "collapsed": false
   },
   "outputs": [
    {
     "name": "stdout",
     "output_type": "stream",
     "text": [
      "The argument `q1` is missing or erroneous.\n",
      "The available quantities are: \n",
      " - x\n",
      " - y\n",
      " - z\n",
      " - ux\n",
      " - uy\n",
      " - uz\n",
      " - w\n",
      "Please set the argument `q1` accordingly.\n"
     ]
    }
   ],
   "source": [
    "z = ts.get_particle( q1='bogus_quantity', t=150.e-15, species='electrons' )"
   ]
  },
  {
   "cell_type": "markdown",
   "metadata": {},
   "source": [
    "### Additional documentation\n",
    "\n",
    "As for the `get_field` method, the documentation on `get_particle` can be obtained by reading its docstring. This can be done for instance by executing the following command in an IPython environnement."
   ]
  },
  {
   "cell_type": "code",
   "execution_count": 14,
   "metadata": {
    "collapsed": true
   },
   "outputs": [],
   "source": [
    "ts.get_particle?"
   ]
  }
 ],
 "metadata": {
  "kernelspec": {
   "display_name": "Python 2",
   "language": "python",
   "name": "python2"
  },
  "language_info": {
   "codemirror_mode": {
    "name": "ipython",
    "version": 2
   },
   "file_extension": ".py",
   "mimetype": "text/x-python",
   "name": "python",
   "nbconvert_exporter": "python",
   "pygments_lexer": "ipython2",
   "version": "2.7.9"
  }
 },
 "nbformat": 4,
 "nbformat_minor": 0
}
