{
 "cells": [
  {
   "cell_type": "markdown",
   "metadata": {
    "collapsed": true
   },
   "source": [
    "# Introduction to the openPMD-viewer GUI\n",
    "\n",
    "This notebook explains how to use the openPMD GUI.\n",
    "\n",
    "The GUI relies on the IPython notebook, and on the package `ipywidgets`. You will need to install these packages in order to be able to use the GUI.\n",
    "\n",
    "## (optional) Preparing this notebook to run it locally\n",
    "\n",
    "If you choose to run this notebook on your local machine, you will need to download the openPMD data files which will then be visualized. To do so, execute the following cell. (Downloading the data may take a few seconds.)"
   ]
  },
  {
   "cell_type": "code",
   "execution_count": 1,
   "metadata": {
    "collapsed": false
   },
   "outputs": [
    {
     "name": "stdout",
     "output_type": "stream",
     "text": [
      "--2015-10-07 20:08:40--  https://github.com/openPMD/openPMD-example-datasets/raw/draft/example-3d.tar.gz\n",
      "Resolving github.com (github.com)... failed: nodename nor servname provided, or not known.\n",
      "wget: unable to resolve host address ‘github.com’\n",
      "tar: Error opening archive: Failed to open 'example-3d.tar.gz'\n",
      "--2015-10-07 20:08:40--  https://github.com/openPMD/openPMD-example-datasets/raw/draft/example-thetaMode.tar.gz\n",
      "Resolving github.com (github.com)... failed: nodename nor servname provided, or not known.\n",
      "wget: unable to resolve host address ‘github.com’\n",
      "tar: Error opening archive: Failed to open 'example-thetaMode.tar.gz'\n"
     ]
    }
   ],
   "source": [
    "import os\n",
    "if os.path.exists('./example-2d.tar.gz') == False:\n",
    "    # 2D Cartesian\n",
    "    !wget https://github.com/openPMD/openPMD-example-datasets/raw/draft/example-2d.tar.gz\n",
    "    !tar zxf example-2d.tar.gz\n",
    "    \n",
    "if os.path.exists('./example-3d.tar.gz') == False:\n",
    "    # 3D Cartesian\n",
    "    !wget https://github.com/openPMD/openPMD-example-datasets/raw/draft/example-3d.tar.gz\n",
    "    !tar zxf example-3d.tar.gz\n",
    "    \n",
    "if os.path.exists('./example-thetaMode.tar.gz') == False:\n",
    "    # thetaMode\n",
    "    !wget https://github.com/openPMD/openPMD-example-datasets/raw/draft/example-thetaMode.tar.gz\n",
    "    !tar zxf example-thetaMode.tar.gz"
   ]
  },
  {
   "cell_type": "markdown",
   "metadata": {},
   "source": [
    "In addition, we choose here to open pop-up windows for the plots."
   ]
  },
  {
   "cell_type": "code",
   "execution_count": 2,
   "metadata": {
    "collapsed": false
   },
   "outputs": [
    {
     "name": "stdout",
     "output_type": "stream",
     "text": [
      "Using matplotlib backend: MacOSX\n"
     ]
    }
   ],
   "source": [
    "%matplotlib"
   ]
  },
  {
   "cell_type": "markdown",
   "metadata": {},
   "source": [
    "## Prepare and use the GUI \n",
    "\n",
    "In order to start using the GUI:\n",
    "- Load the class `OpenPMDTimeSeries` from the module `opmd_viewer`"
   ]
  },
  {
   "cell_type": "code",
   "execution_count": 3,
   "metadata": {
    "collapsed": true
   },
   "outputs": [],
   "source": [
    "from opmd_viewer import OpenPMDTimeSeries"
   ]
  },
  {
   "cell_type": "markdown",
   "metadata": {},
   "source": [
    "- Create a time series object by pointing to the folder which contains the corresponding openPMD data"
   ]
  },
  {
   "cell_type": "code",
   "execution_count": 4,
   "metadata": {
    "collapsed": true
   },
   "outputs": [],
   "source": [
    "ts_2d = OpenPMDTimeSeries('./example-2d/hdf5/')"
   ]
  },
  {
   "cell_type": "markdown",
   "metadata": {},
   "source": [
    "- Call the `slider` method"
   ]
  },
  {
   "cell_type": "code",
   "execution_count": 5,
   "metadata": {
    "collapsed": false
   },
   "outputs": [],
   "source": [
    "ts_2d.slider()"
   ]
  },
  {
   "cell_type": "markdown",
   "metadata": {},
   "source": [
    "Calling this method will insert the following panel inside the notebook. (Note that the panel below is an **non-interactive image**, which is here for the users that are viewing this notebook online. Calling the `slider` method in a live notebook, will produce a truly **interactive** panel.\n",
    "![GUI_representation](./img/GUI_image.png)\n"
   ]
  },
  {
   "cell_type": "code",
   "execution_count": null,
   "metadata": {
    "collapsed": true
   },
   "outputs": [],
   "source": []
  },
  {
   "cell_type": "code",
   "execution_count": null,
   "metadata": {
    "collapsed": true
   },
   "outputs": [],
   "source": []
  }
 ],
 "metadata": {
  "kernelspec": {
   "display_name": "Python 2",
   "language": "python",
   "name": "python2"
  },
  "language_info": {
   "codemirror_mode": {
    "name": "ipython",
    "version": 2
   },
   "file_extension": ".py",
   "mimetype": "text/x-python",
   "name": "python",
   "nbconvert_exporter": "python",
   "pygments_lexer": "ipython2",
   "version": "2.7.10"
  }
 },
 "nbformat": 4,
 "nbformat_minor": 0
}
