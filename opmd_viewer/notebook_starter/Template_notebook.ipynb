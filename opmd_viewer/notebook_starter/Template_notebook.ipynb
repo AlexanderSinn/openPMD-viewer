{
 "cells": [
  {
   "cell_type": "markdown",
   "metadata": {},
   "source": [
    "This is a pre-filled notebook, for the visualization of openPMD files.\n",
    "\n",
    "- Modify the path in cell 2, so that it points to your data\n",
    "- Click `Cell > Run all` in the above menu"
   ]
  },
  {
   "cell_type": "code",
   "execution_count": null,
   "metadata": {
    "collapsed": true
   },
   "outputs": [],
   "source": [
    "# Import relevant packages and setup visualization\n",
    "# NB: The default setup produces pop-up windows for the plots.\n",
    "# To include the plots in the notebook, use `%matplotlib notebook`.\n",
    "from opmd_viewer import OpenPMDTimeSeries\n",
    "%matplotlib"
   ]
  },
  {
   "cell_type": "code",
   "execution_count": null,
   "metadata": {
    "collapsed": true
   },
   "outputs": [],
   "source": [
    "# Point to the folder containing the openPMD files\n",
    "ts = OpenPMDTimeSeries('./diags/hdf5/')"
   ]
  },
  {
   "cell_type": "code",
   "execution_count": null,
   "metadata": {
    "collapsed": true
   },
   "outputs": [],
   "source": [
    "# Create the interactive GUI\n",
    "ts.slider()"
   ]
  }
 ],
 "metadata": {
  "kernelspec": {
   "display_name": "Python 2",
   "language": "python",
   "name": "python2"
  },
  "language_info": {
   "codemirror_mode": {
    "name": "ipython",
    "version": 2
   },
   "file_extension": ".py",
   "mimetype": "text/x-python",
   "name": "python",
   "nbconvert_exporter": "python",
   "pygments_lexer": "ipython2",
   "version": "2.7.11"
  }
 },
 "nbformat": 4,
 "nbformat_minor": 0
}
